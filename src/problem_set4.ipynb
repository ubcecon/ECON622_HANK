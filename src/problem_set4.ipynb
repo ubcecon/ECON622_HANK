{
 "cells": [
  {
   "cell_type": "markdown",
   "metadata": {},
   "source": [
    "# ECON 622\n",
    "# Problem Set 4\n",
    "*Nicolas Wesseler*"
   ]
  },
  {
   "cell_type": "markdown",
   "metadata": {},
   "source": [
    "This is a failing attempt at solving the optimal control problem. "
   ]
  },
  {
   "cell_type": "markdown",
   "metadata": {},
   "source": [
    "# Model Description\n",
    "\n",
    " This is based on section II of the paper.\n",
    "\n",
    "  ## Households\n",
    "\n",
    "$$\n",
    " \\begin{aligned}\n",
    "  \\max_{c_t, \\ell_t, a_t, b_t, d_t} E_0 & \\int_0^\\infty\n",
    " e^{−(ρ+ζ)t} u( c_t, \\ell_t) dt \\\\\n",
    " \\text{s.t.} \\\\\n",
    " \\frac{db}{dt} & = (1 − τ_t)w_t z_t ℓ_t + r^b_t(b_t) b_t + T_t − d_t − \\chi(d_t, a_t) − c_t, \\\\\n",
    " \\frac{da}{dt} & = r_t^a a_t + d_t \\\\\n",
    " b_t & \\geq −b_ ,\\;\\; a_t \\geq 0\n",
    " \\end{aligned}\n",
    "$$\n",
    "  where $a_0$, $b_0$ and $d_0$ are given, and\n",
    " $$\n",
    "  r^b_t(b_t) = r_t^b + \\kappa\n",
    " $$\n",
    "  and\n",
    "$$\n",
    " \\chi(d_t, a_t) =  \\chi_0 |d_t| - \\chi_1 \\left\\vert \\frac{d_t}{a_t}\\right \\vert^{\\chi_2} a\n",
    "$$"
   ]
  },
  {
   "cell_type": "markdown",
   "metadata": {},
   "source": [
    "### Activate environment"
   ]
  },
  {
   "cell_type": "code",
   "execution_count": 23,
   "metadata": {},
   "outputs": [
    {
     "data": {
      "text/plain": [
       "activate (generic function with 3 methods)"
      ]
     },
     "execution_count": 23,
     "metadata": {},
     "output_type": "execute_result"
    }
   ],
   "source": [
    "cd(\"/Users/nicolaswesseler/Documents/github/ECON622/problem_sets\");\n",
    "using Pkg\n",
    "Pkg.activate"
   ]
  },
  {
   "cell_type": "markdown",
   "metadata": {},
   "source": [
    "### Install missing packages"
   ]
  },
  {
   "cell_type": "code",
   "execution_count": 24,
   "metadata": {},
   "outputs": [],
   "source": [
    "#Pkg.add(\"LinearAlgebra\")\n",
    "#Pkg.add(\"NLsolve\")\n",
    "#Pkg.add(\"EconPDEs\")"
   ]
  },
  {
   "cell_type": "markdown",
   "metadata": {},
   "source": [
    "### Load packages"
   ]
  },
  {
   "cell_type": "code",
   "execution_count": 4,
   "metadata": {},
   "outputs": [],
   "source": [
    "using EconPDEs\n",
    "using NLsolve\n",
    "using LinearAlgebra"
   ]
  },
  {
   "cell_type": "code",
   "execution_count": null,
   "metadata": {},
   "outputs": [],
   "source": [
    "# Define a discretized state space\n",
    "# An OrderedDict in which each key corresponds to a state variable\n",
    "# Grids can be non-homogeneous\n",
    "\n",
    "stategrid = OrderedDict(:ab => range(0.0, stop=10.0, length=100), :bb => range(-10.0, stop=10.0, length=200), :xb => range(0, stop=2, length=100))"
   ]
  },
  {
   "cell_type": "code",
   "execution_count": 41,
   "metadata": {},
   "outputs": [
    {
     "data": {
      "text/plain": [
       "OrderedDict{Symbol, Vector{Float64}} with 1 entry:\n",
       "  :V => [1.0, 1.0, 1.0, 1.0, 1.0, 1.0, 1.0, 1.0, 1.0, 1.0  …  1.0, 1.0, 1.0, 1.…"
      ]
     },
     "execution_count": 41,
     "metadata": {},
     "output_type": "execute_result"
    }
   ],
   "source": [
    "# Define an initial guess for the value functions\n",
    "# An OrderedDict in which each key corresponds to a value function to solve for, \n",
    "# specified as an array with as many dimensions as there are state variables\n",
    "\n",
    "solend = OrderedDict(:V => ones(100))"
   ]
  },
  {
   "cell_type": "code",
   "execution_count": 1,
   "metadata": {},
   "outputs": [
    {
     "data": {
      "text/plain": [
       "f (generic function with 1 method)"
      ]
     },
     "execution_count": 1,
     "metadata": {},
     "output_type": "execute_result"
    }
   ],
   "source": [
    "# Define a function that encodes the PDE. \n",
    "\n",
    "function f(state::NamedTuple, sol::NamedTuple)\n",
    "    χ_0 = 0.04; χ_1 = 0.8; χ_2 = 0.9; ϕ = 3; w = 2; T = 0.0; ra = 0.1; rb = 0.04; β = 0.1; ρ = 0.04; λ = 0; ψ = 2; v = 1\n",
    "\n",
    "    # create state variables\n",
    "    g = [\"a\", \"b\", \"x\"] \n",
    "    for i in g\n",
    "        i = state.i\n",
    "    end\n",
    "\n",
    "    # use the solver\n",
    "    V, Va, Va_d, Vb, Vb_d, Vx, Vx_d = sol.V, sol.Va_up, sol.Va_down, sol.Vb_up, sol.Vb_down, sol.Vx_up, sol.Vx_down \n",
    "    l = ((1/ϕ)* Vb* (1-τ) *w * (e^x))^(1/v)\n",
    "    c = (Vb)^(-1/ψ)\n",
    "    d = ((Va /Vb - 1) - χ_0)/(χ_1*χ_2* a^(1-χ_2))^(1/(χ_2-1)) > 0 ? ((Va /Vb - 1) - χ_0)/(χ_1*χ_2* a^(1-χ_2))^(1/(χ_2-1)) : ((Va /Vb - 1) * (-1) - χ_0)/(χ_1*χ_2* a^(1-χ_2))^(1/(χ_2-1))\n",
    "    χ = χ_0 * abs(d) + χ_1*((abs(d/a))^χ_2)*a\n",
    "\n",
    "    # solution\n",
    "    Vt = - ( (c^(1-x))/(1-x) - ϕ * ((l^(1+v))/(1+v)) + Vb * ((1-τ)*w* exp(y) *l + r_b * b +T - d - χ -c) + Va * (r_a*a + d) + Vx*(-β*x) - (ρ + ζ)*V )\n",
    "    (Vt = Vt,), (; V, Va, Vb, Vx)\n",
    "end"
   ]
  },
  {
   "cell_type": "code",
   "execution_count": null,
   "metadata": {},
   "outputs": [],
   "source": [
    "# Solve directly for the stationary solution\n",
    "\n",
    "x, residual_norm =  pdesolve(f, stategrid, solend)"
   ]
  }
 ],
 "metadata": {
  "kernelspec": {
   "display_name": "Julia 1.8.0",
   "language": "julia",
   "name": "julia-1.8"
  },
  "language_info": {
   "file_extension": ".jl",
   "mimetype": "application/julia",
   "name": "julia",
   "version": "1.8.0"
  },
  "orig_nbformat": 4
 },
 "nbformat": 4,
 "nbformat_minor": 2
}
